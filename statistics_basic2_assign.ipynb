{
 "cells": [
  {
   "cell_type": "markdown",
   "id": "e2aeed43-253f-4493-9153-c0660a1d904d",
   "metadata": {},
   "source": [
    "QUESTION 1"
   ]
  },
  {
   "cell_type": "markdown",
   "id": "9ab93712-aec2-4972-940d-bc5cade06513",
   "metadata": {},
   "source": [
    "The three measures of central tendency are:\n",
    "\n",
    "1. **Mean**: The mean is the average of all the values in a dataset. It is calculated by summing up all the values and then dividing the sum by the number of data points.\n",
    "\n",
    "2. **Median**: The median is the middle value in a dataset when the data is arranged in ascending or descending order. If there is an even number of data points, the median is the average of the two middle values.\n",
    "\n",
    "3. **Mode**: The mode is the value that appears most frequently in the dataset. A dataset can have one mode (unimodal), two modes (bimodal), or more than two modes (multimodal).\n",
    "\n",
    "\n"
   ]
  },
  {
   "cell_type": "markdown",
   "id": "00009d13-99c3-409e-9761-c705bc83b55c",
   "metadata": {},
   "source": [
    "QUESTION 2"
   ]
  },
  {
   "cell_type": "markdown",
   "id": "1d692d16-dd2d-4c11-a6b6-2d86d1206ee3",
   "metadata": {},
   "source": [
    "The mean, median, and mode are three different measures of central tendency, used to describe the center or typical value of a dataset. Each measure has its own way of summarizing the data, and they are appropriate in different situations.\n",
    "\n",
    "1. **Mean**:\n",
    "The mean is the most common measure of central tendency and is often referred to simply as the \"average.\" It is calculated by adding up all the values in the dataset and then dividing by the number of data points. The formula for the mean of a dataset with n data points is:\n",
    "```\n",
    "Mean = (sum of all values) / n\n",
    "```\n",
    "\n",
    "The mean is sensitive to extreme values or outliers in the dataset since it takes into account all values. It is commonly used when the data is approximately normally distributed or when there are no significant outliers.\n",
    "\n",
    "2. **Median**:\n",
    "The median is the middle value in a dataset when the data is arranged in ascending or descending order. If there is an even number of data points, the median is the average of the two middle values. To find the median, you do not need to consider the actual values, making it less sensitive to outliers.\n",
    "\n",
    "The median is particularly useful when the data contains outliers or is not normally distributed. It provides a better representation of the \"typical\" value when the mean might be skewed by extreme values.\n",
    "\n",
    "3. **Mode**:\n",
    "The mode is the value that appears most frequently in the dataset. A dataset can have one mode (unimodal), two modes (bimodal), or more than two modes (multimodal). It is not necessarily unique; there can be multiple modes or none at all.\n",
    "\n",
    "The mode is useful when you want to identify the most common value or category in a dataset. It is often used with categorical data or discrete variables.\n",
    "\n",
    "In summary:\n",
    "\n",
    "- **Mean**: Suitable for data that is approximately normally distributed and lacks significant outliers.\n",
    "- **Median**: Useful when data has outliers or is not normally distributed, providing a more robust measure of central tendency.\n",
    "- **Mode**: Appropriate for identifying the most frequent value or category in categorical data.\n",
    "\n"
   ]
  },
  {
   "cell_type": "markdown",
   "id": "f2ad1c2e-e016-4930-9abe-5ec4fcf1dc5f",
   "metadata": {},
   "source": [
    "QUESTION 3"
   ]
  },
  {
   "cell_type": "code",
   "execution_count": 5,
   "id": "2ea84c8c-126e-4628-ad22-4ba7f103330d",
   "metadata": {},
   "outputs": [
    {
     "data": {
      "text/plain": [
       "177.01875"
      ]
     },
     "execution_count": 5,
     "metadata": {},
     "output_type": "execute_result"
    }
   ],
   "source": [
    "import numpy as np\n",
    "ages=[178,177,176,177,178.2,178,175,179,180,175,178.9,176.2,177,172.5,178,176.5]\n",
    "np.mean(ages)\n"
   ]
  },
  {
   "cell_type": "code",
   "execution_count": 6,
   "id": "52ab312d-9541-4355-b675-60c277ffab44",
   "metadata": {},
   "outputs": [
    {
     "data": {
      "text/plain": [
       "177.0"
      ]
     },
     "execution_count": 6,
     "metadata": {},
     "output_type": "execute_result"
    }
   ],
   "source": [
    "np.median(ages)\n"
   ]
  },
  {
   "cell_type": "code",
   "execution_count": 9,
   "id": "68f82b28-c3bb-4840-820d-28856df9f9f8",
   "metadata": {},
   "outputs": [
    {
     "name": "stderr",
     "output_type": "stream",
     "text": [
      "/tmp/ipykernel_98/2994774060.py:2: FutureWarning: Unlike other reduction functions (e.g. `skew`, `kurtosis`), the default behavior of `mode` typically preserves the axis it acts along. In SciPy 1.11.0, this behavior will change: the default value of `keepdims` will become False, the `axis` over which the statistic is taken will be eliminated, and the value None will no longer be accepted. Set `keepdims` to True or False to avoid this warning.\n",
      "  stats.mode(ages)\n"
     ]
    },
    {
     "data": {
      "text/plain": [
       "ModeResult(mode=array([177.]), count=array([3]))"
      ]
     },
     "execution_count": 9,
     "metadata": {},
     "output_type": "execute_result"
    }
   ],
   "source": [
    "from scipy import stats\n",
    "stats.mode(ages)"
   ]
  },
  {
   "cell_type": "markdown",
   "id": "e1a9c31f-d8b1-4dad-9b1c-65d8c2ff6f70",
   "metadata": {},
   "source": [
    "QUESTION 4"
   ]
  },
  {
   "cell_type": "code",
   "execution_count": 10,
   "id": "f5fccf9a-48ff-4690-9124-904ef348ad9d",
   "metadata": {},
   "outputs": [
    {
     "data": {
      "text/plain": [
       "1.7885814036548633"
      ]
     },
     "execution_count": 10,
     "metadata": {},
     "output_type": "execute_result"
    }
   ],
   "source": [
    "heights=[178,177,176,177,178.2,178,175,179,180,175,178.9,176.2,177,172.5,178,176.5]\n",
    "import numpy as np\n",
    "np.std(heights)"
   ]
  },
  {
   "cell_type": "markdown",
   "id": "6cbd79ce-e835-402c-989a-f2c3a6ac1ca7",
   "metadata": {},
   "source": [
    "QUESTION 5"
   ]
  },
  {
   "cell_type": "markdown",
   "id": "df186e62-f8ae-43ca-932c-767d084aeff6",
   "metadata": {},
   "source": [
    "Measures of dispersion such as range, variance, and standard deviation are used to quantify how spread out or dispersed the data points are in a dataset. They provide valuable information about the variability and diversity of the data. Let's explain each measure and provide an example to illustrate their use:\n",
    "\n",
    "1. **Range**:\n",
    "The range is the simplest measure of dispersion and is calculated as the difference between the maximum and minimum values in the dataset. It gives an idea of the total spread of the data, but it only considers the two extreme values.\n",
    "\n",
    "Example: Consider the following dataset representing the scores of students in a test:\n",
    "[70, 80, 85, 90, 60]\n",
    "\n",
    "The range is calculated as follows:\n",
    "Range = Maximum value - Minimum value = 90 - 60 = 30\n",
    "In this example, the range is 30, indicating that the scores vary by 30 points from the lowest to the highest score.\n",
    "\n",
    "2. **Variance**:\n",
    "The variance measures the average of the squared differences between each data point and the mean of the dataset. It takes into account all data points and provides a more comprehensive view of how dispersed the data is.\n",
    "\n",
    "Example: Continuing with the same dataset of student scores, let's calculate the variance:\n",
    "\n",
    "Step 1: Calculate the mean (average):\n",
    "Mean = (70 + 80 + 85 + 90 + 60) / 5 = 77\n",
    "\n",
    "Step 2: Calculate the squared differences between each data point and the mean:\n",
    "(70 - 77)^2 = 49\n",
    "(80 - 77)^2 = 9\n",
    "(85 - 77)^2 = 64\n",
    "(90 - 77)^2 = 169\n",
    "(60 - 77)^2 = 289\n",
    "\n",
    "Step 3: Calculate the variance:\n",
    "Variance = (49 + 9 + 64 + 169 + 289) / 5 = 116\n",
    "\n",
    "The variance is 116, indicating that the scores vary from the mean by an average squared difference of 116.\n",
    "\n",
    "3. **Standard Deviation**:\n",
    "The standard deviation is the square root of the variance. It provides a measure of dispersion in the original unit of measurement and is widely used because of its interpretability.\n",
    "\n",
    "Example: Using the same dataset, let's calculate the standard deviation:\n",
    "\n",
    "Standard Deviation = √Variance ≈ √116 ≈ 10.77 (rounded to two decimal places)\n",
    "\n",
    "The standard deviation is approximately 10.77, suggesting that the scores deviate from the mean by about 10.77 points on average.\n",
    "\n",
    "In summary, measures of dispersion like range, variance, and standard deviation are used to quantify the spread or variability of data. They provide insights into how spread out the values are from the central tendency (mean) and help understand the distribution of the dataset. The choice of which measure to use depends on the specific characteristics of the data and the level of detail required in describing the spread."
   ]
  },
  {
   "cell_type": "markdown",
   "id": "b2f22d3a-579d-4206-949d-637c4f219a99",
   "metadata": {},
   "source": [
    "QUESTION 6"
   ]
  },
  {
   "cell_type": "markdown",
   "id": "a7ad4c81-4791-4359-9003-ac1f06420d51",
   "metadata": {},
   "source": [
    "A Venn diagram is a graphical representation used to visualize the relationships and similarities between different sets or groups of data. It was introduced by John Venn, a British logician and philosopher, in the 19th century. Venn diagrams are particularly useful in set theory and in illustrating set operations.\n",
    "\n",
    "The diagram consists of one or more overlapping circles or ellipses, each representing a set. The overlapping regions represent the elements that are common to the sets involved in the intersection. The non-overlapping regions represent the elements that are unique to each set."
   ]
  },
  {
   "cell_type": "markdown",
   "id": "35b6b5a4-d6d8-4733-a18c-9fd7934ed16a",
   "metadata": {},
   "source": [
    "QUESTION 7"
   ]
  },
  {
   "cell_type": "markdown",
   "id": "6bc6c1cb-29ff-498e-b957-113719a0f301",
   "metadata": {},
   "source": [
    "Given sets:\n",
    "A = {2, 3, 4, 5, 6, 7}\n",
    "B = {0, 2, 6, 8, 10}\n",
    "\n",
    "(i) A ∩ B (Intersection):\n",
    "The intersection of two sets A and B consists of all elements that are common to both sets. In this case, the elements 2 and 6 are present in both sets.\n",
    "\n",
    "A ∩ B = {2, 6}\n",
    "\n",
    "(ii) A ∪ B (Union):\n",
    "The union of two sets A and B consists of all elements that are present in either set. We simply combine all unique elements from both sets without duplication.\n",
    "\n",
    "A ∪ B = {0, 2, 3, 4, 5, 6, 7, 8, 10}\n",
    "\n",
    "So, the results of the set operations are:\n",
    "\n",
    "(i) A ∩ B = {2, 6}\n",
    "(ii) A ∪ B = {0, 2, 3, 4, 5, 6, 7, 8, 10}\n",
    "\n"
   ]
  },
  {
   "cell_type": "markdown",
   "id": "3ae0ecc3-8b60-408b-a87d-a4c3d29eb985",
   "metadata": {},
   "source": [
    "QUESTION 8"
   ]
  },
  {
   "cell_type": "markdown",
   "id": "8f9b6393-296f-46aa-a43a-d79d3c0f4d9d",
   "metadata": {},
   "source": [
    "Skewness is a statistical measure that describes the asymmetry of the probability distribution of a dataset. It quantifies the degree to which the data deviates from a symmetrical (bell-shaped) distribution. In other words, it measures the extent to which the data is skewed or leans to one side of the central tendency.\n",
    "\n",
    "There are three types of skewness:\n",
    "\n",
    "1. **Positive Skewness (Right Skewness)**:\n",
    "In a positively skewed distribution, the tail of the distribution extends more towards the right side, and the majority of the data is concentrated on the left side. The mean is typically greater than the median, and the median is greater than the mode. This skewness occurs when there are outliers or extreme values on the higher end of the data.\n",
    "\n",
    "2. **Negative Skewness (Left Skewness)**:\n",
    "In a negatively skewed distribution, the tail of the distribution extends more towards the left side, and the bulk of the data is concentrated on the right side. The mean is typically less than the median, and the median is less than the mode. This skewness occurs when there are outliers or extreme values on the lower end of the data.\n",
    "\n",
    "3. **Zero Skewness (Symmetrical Distribution)**:\n",
    "In a symmetrical distribution, the data is evenly distributed on both sides of the central tendency. The mean, median, and mode are approximately equal, and there is no skewness present.\n",
    "\n",
    "Skewness is an important concept in statistics because it helps in understanding the shape and characteristics of a dataset. It can impact various statistical analyses and model assumptions. For example, if data is highly skewed, using the mean as a measure of central tendency might not be representative of the typical value, and the median may be a better choice.\n",
    "\n",
    "Skewness can be measured quantitatively using skewness coefficients such as Pearson's skewness coefficient or Fisher-Pearson standardized moment coefficient. These coefficients provide a numerical value that indicates the direction and magnitude of skewness in the data distribution."
   ]
  },
  {
   "cell_type": "markdown",
   "id": "0d143b3d-3679-484c-bba3-6a4e867a75ae",
   "metadata": {},
   "source": [
    "QUESTION 9"
   ]
  },
  {
   "cell_type": "markdown",
   "id": "9a5ad689-dd85-4de8-9ff0-da4f0caa8cee",
   "metadata": {},
   "source": [
    "If a dataset is right-skewed, the position of the median with respect to the mean will be **less than** the mean.\n",
    "\n",
    "In a right-skewed distribution, the tail of the distribution extends more towards the right side, and the majority of the data is concentrated on the left side. This means that there are relatively few extreme values on the right side of the data that can pull the mean in that direction.\n",
    "\n",
    "Since the median represents the middle value of the dataset when it is sorted in ascending order, it is less affected by extreme values compared to the mean. The median splits the data into two equal halves, and in a right-skewed distribution, it will be pulled towards the left side where the majority of the data is located.\n",
    "\n",
    "On the other hand, the mean is sensitive to extreme values and can be influenced by the long tail on the right side, causing it to be pulled in that direction.\n",
    "\n",
    "In summary, for a right-skewed distribution:\n",
    "\n",
    "- Median < Mean"
   ]
  },
  {
   "cell_type": "markdown",
   "id": "4398419e-6491-44aa-9e54-e1a55a12a67f",
   "metadata": {},
   "source": [
    "QUESTION 10"
   ]
  },
  {
   "cell_type": "markdown",
   "id": "d1dca952-906e-4824-b932-d2c2abef5f3e",
   "metadata": {},
   "source": [
    "**Covariance and correlation** are both measures used to describe the relationship between two variables in a dataset. However, they have some differences in their interpretation and scale.\n",
    "\n",
    "**Covariance**:\n",
    "Covariance is a measure that indicates the degree to which two variables change together. It quantifies the directional relationship between two variables. A positive covariance indicates that when one variable increases, the other tends to increase as well, and when one variable decreases, the other tends to decrease. A negative covariance indicates an inverse relationship, where one variable increases while the other decreases.\n",
    "\n",
    "The formula for calculating the covariance between two variables X and Y in a dataset with n data points is:\n",
    "\n",
    "```\n",
    "Cov(X, Y) = Σ((X_i - X̄) * (Y_i - Ȳ)) / n\n",
    "```\n",
    "\n",
    "where X̄ and Ȳ are the means of X and Y, respectively, and Σ represents the sum of the products over all data points i.\n",
    "\n",
    "**Correlation**:\n",
    "Correlation, on the other hand, is a standardized version of covariance that provides a measure of the strength and direction of the linear relationship between two variables. It is scaled between -1 and 1. A correlation of 1 indicates a perfect positive linear relationship, -1 indicates a perfect negative linear relationship, and 0 indicates no linear relationship.\n",
    "\n",
    "The most commonly used correlation coefficient is the Pearson correlation coefficient (r). The formula for calculating the Pearson correlation coefficient between X and Y is:\n",
    "\n",
    "```\n",
    "r = Cov(X, Y) / (σ_X * σ_Y)\n",
    "```\n",
    "\n",
    "where Cov(X, Y) is the covariance between X and Y, and σ_X and σ_Y are the standard deviations of X and Y, respectively.\n",
    "\n",
    "**Usage in Statistical Analysis**:\n",
    "\n",
    "1. **Covariance**: Covariance is used to understand the direction (positive or negative) of the relationship between two variables. However, it does not provide a standardized measure of the strength of the relationship, and its value can be affected by the scales of the variables.\n",
    "\n",
    "2. **Correlation**: Correlation, specifically Pearson correlation, provides a standardized measure of the strength and direction of the linear relationship between two variables. It is widely used in statistical analysis and data science to understand the strength of association between variables and to identify patterns and dependencies in the data.\n",
    "\n",
    "Both covariance and correlation are important tools in statistical analysis, particularly in the fields of finance, economics, and social sciences. They help researchers and analysts to identify and quantify the relationships between variables, which can be used for making predictions, identifying patterns, and making data-driven decisions."
   ]
  },
  {
   "cell_type": "markdown",
   "id": "54cb57cf-4d15-497f-8e27-fff6da594358",
   "metadata": {},
   "source": [
    "QUESTION 11"
   ]
  },
  {
   "cell_type": "markdown",
   "id": "ef7468a3-9459-4c53-83cb-33f9fb993017",
   "metadata": {},
   "source": [
    "The formula for calculating the sample mean (also known as the sample average) is:\n",
    "\n",
    "```\n",
    "Sample Mean = (Sum of all data points) / (Number of data points)\n",
    "```\n",
    "\n",
    "In mathematical notation, if we have a dataset with n data points, and the data points are represented as x₁, x₂, ..., xₙ, then the sample mean (x̄) can be calculated as:\n",
    "\n",
    "```\n",
    "x̄ = (x₁ + x₂ + ... + xₙ) / n\n",
    "```\n",
    "\n",
    "Example calculation:\n",
    "\n",
    "Let's consider a dataset of 5 students' test scores: [80, 85, 90, 75, 95].\n",
    "\n",
    "To calculate the sample mean:\n",
    "\n",
    "```\n",
    "Sample Mean = (80 + 85 + 90 + 75 + 95) / 5\n",
    "Sample Mean = 425 / 5\n",
    "Sample Mean = 85\n",
    "```\n",
    "\n",
    "The sample mean of the test scores is 85. This means that, on average, the students scored 85 in the test."
   ]
  },
  {
   "cell_type": "markdown",
   "id": "4c47c937-3be6-4fb8-8cb9-55f6b9cb4b23",
   "metadata": {},
   "source": [
    "QUESTION 12"
   ]
  },
  {
   "cell_type": "markdown",
   "id": "842d29d9-d7c1-4e28-9ac9-a946589cd045",
   "metadata": {},
   "source": [
    "For a normal distribution, the relationship between its measures of central tendency (mean, median, and mode) is as follows:\n",
    "\n",
    "1. **Mean**:\n",
    "In a normal distribution, the mean, median, and mode are all equal. The mean is located at the center of the distribution, and since the normal distribution is symmetric, the mean coincides with the peak of the curve. Therefore, the mean is the same as the median and the mode.\n",
    "\n",
    "2. **Median**:\n",
    "As mentioned above, the median of a normal distribution is equal to the mean. Since the normal distribution is symmetrical, the median is also located at the center of the distribution.\n",
    "\n",
    "3. **Mode**:\n",
    "In a normal distribution, the mode is also equal to the mean and median. The mode represents the value that occurs most frequently in the dataset. In a normal distribution, since there are no gaps or skewness, all values occur with equal frequency at the peak, resulting in a single mode, which is equal to the mean and median.\n",
    "\n",
    "In summary, for a normal distribution:\n",
    "\n",
    "Mean = Median = Mode\n",
    "\n"
   ]
  },
  {
   "cell_type": "markdown",
   "id": "1377a6f0-d652-4654-b230-ed8e10b04d94",
   "metadata": {},
   "source": [
    "QUESTION 13"
   ]
  },
  {
   "cell_type": "markdown",
   "id": "d72813f4-423f-45f5-8935-111e001cc6bb",
   "metadata": {},
   "source": [
    "Covariance and correlation are both measures that describe the relationship between two variables, but they differ in their interpretation, scale, and ability to provide standardized comparisons. Let's explore the main differences between covariance and correlation:\n",
    "\n",
    "1. **Interpretation**:\n",
    "- **Covariance**: Covariance is a measure that indicates the degree and direction of the linear relationship between two variables. A positive covariance indicates that when one variable increases, the other tends to increase as well, and when one variable decreases, the other tends to decrease. A negative covariance indicates an inverse relationship, where one variable increases while the other decreases.\n",
    "- **Correlation**: Correlation, specifically Pearson correlation, provides a standardized measure of the strength and direction of the linear relationship between two variables. It scales the covariance to a range between -1 and 1, where 1 indicates a perfect positive linear relationship, -1 indicates a perfect negative linear relationship, and 0 indicates no linear relationship.\n",
    "\n",
    "2. **Scale**:\n",
    "- **Covariance**: The magnitude of covariance depends on the scale of the variables involved. If the variables are on different scales, the covariance can be difficult to interpret since its value is influenced by the units of measurement.\n",
    "- **Correlation**: Correlation standardizes the covariance, making it independent of the scales of the variables. It provides a dimensionless value between -1 and 1, making it easier to compare and interpret the strength of the relationship.\n",
    "\n",
    "3. **Comparison between Datasets**:\n",
    "- **Covariance**: Covariance can be used to compare the relationships between different pairs of variables. However, comparing covariances can be challenging when dealing with datasets that have different units and scales.\n",
    "- **Correlation**: Correlation coefficients provide a standardized measure, allowing for easier comparison between different pairs of variables. Correlation is commonly used to identify the strength and direction of relationships between variables in various datasets.\n",
    "\n",
    "4. **Significance**:\n",
    "- **Covariance**: The magnitude of covariance alone does not indicate the strength or significance of the relationship. It only shows the direction of the relationship.\n",
    "- **Correlation**: Correlation provides a measure of both strength and direction. A correlation close to -1 or 1 indicates a strong linear relationship, while a correlation close to 0 indicates a weak or no linear relationship.\n"
   ]
  },
  {
   "cell_type": "code",
   "execution_count": null,
   "id": "d867cb90-793f-4c33-85e6-631859933ccc",
   "metadata": {},
   "outputs": [],
   "source": []
  }
 ],
 "metadata": {
  "kernelspec": {
   "display_name": "Python 3 (ipykernel)",
   "language": "python",
   "name": "python3"
  },
  "language_info": {
   "codemirror_mode": {
    "name": "ipython",
    "version": 3
   },
   "file_extension": ".py",
   "mimetype": "text/x-python",
   "name": "python",
   "nbconvert_exporter": "python",
   "pygments_lexer": "ipython3",
   "version": "3.10.8"
  }
 },
 "nbformat": 4,
 "nbformat_minor": 5
}
